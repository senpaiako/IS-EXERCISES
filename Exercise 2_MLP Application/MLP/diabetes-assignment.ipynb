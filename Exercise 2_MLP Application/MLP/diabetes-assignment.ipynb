{
 "cells": [
  {
   "cell_type": "markdown",
   "metadata": {},
   "source": [
    "# Applications of MLP"
   ]
  },
  {
   "cell_type": "markdown",
   "metadata": {
    "colab_type": "text",
    "id": "gWZyYmS_UE_L"
   },
   "source": [
    "### Importing the libraries"
   ]
  },
  {
   "cell_type": "code",
   "execution_count": 184,
   "metadata": {
    "colab": {},
    "colab_type": "code",
    "id": "MxkJoQBkUIHC"
   },
   "outputs": [],
   "source": [
    "import numpy as np\n",
    "import pandas as pd\n",
    "import tensorflow as tf\n",
    "from sklearn.preprocessing import StandardScaler"
   ]
  },
  {
   "cell_type": "code",
   "execution_count": 10,
   "metadata": {
    "colab": {
     "base_uri": "https://localhost:8080/",
     "height": 34
    },
    "colab_type": "code",
    "id": "ZaTwK7ojXr2F",
    "outputId": "0b27a96d-d11a-43e8-ab4b-87c1f01896fe"
   },
   "outputs": [
    {
     "data": {
      "text/plain": [
       "'2.13.0'"
      ]
     },
     "execution_count": 10,
     "metadata": {},
     "output_type": "execute_result"
    }
   ],
   "source": [
    "tf.__version__"
   ]
  },
  {
   "cell_type": "markdown",
   "metadata": {
    "colab_type": "text",
    "id": "1E0Q3aoKUCRX"
   },
   "source": [
    "## Part 1 - Data Preprocessing"
   ]
  },
  {
   "cell_type": "markdown",
   "metadata": {
    "colab_type": "text",
    "id": "cKWAkFVGUU0Z"
   },
   "source": [
    "### Importing the dataset"
   ]
  },
  {
   "cell_type": "code",
   "execution_count": 14,
   "metadata": {
    "colab": {},
    "colab_type": "code",
    "id": "MXUkhkMfU4wq"
   },
   "outputs": [],
   "source": [
    "dataset = pd.read_csv('diabetes_prediction_dataset.csv')"
   ]
  },
  {
   "cell_type": "code",
   "execution_count": 13,
   "metadata": {},
   "outputs": [
    {
     "data": {
      "text/html": [
       "<div>\n",
       "<style scoped>\n",
       "    .dataframe tbody tr th:only-of-type {\n",
       "        vertical-align: middle;\n",
       "    }\n",
       "\n",
       "    .dataframe tbody tr th {\n",
       "        vertical-align: top;\n",
       "    }\n",
       "\n",
       "    .dataframe thead th {\n",
       "        text-align: right;\n",
       "    }\n",
       "</style>\n",
       "<table border=\"1\" class=\"dataframe\">\n",
       "  <thead>\n",
       "    <tr style=\"text-align: right;\">\n",
       "      <th></th>\n",
       "      <th>gender</th>\n",
       "      <th>age</th>\n",
       "      <th>hypertension</th>\n",
       "      <th>heart_disease</th>\n",
       "      <th>smoking_history</th>\n",
       "      <th>bmi</th>\n",
       "      <th>HbA1c_level</th>\n",
       "      <th>blood_glucose_level</th>\n",
       "      <th>diabetes</th>\n",
       "    </tr>\n",
       "  </thead>\n",
       "  <tbody>\n",
       "    <tr>\n",
       "      <th>0</th>\n",
       "      <td>Female</td>\n",
       "      <td>80.0</td>\n",
       "      <td>0</td>\n",
       "      <td>1</td>\n",
       "      <td>never</td>\n",
       "      <td>25.19</td>\n",
       "      <td>6.6</td>\n",
       "      <td>140</td>\n",
       "      <td>0</td>\n",
       "    </tr>\n",
       "    <tr>\n",
       "      <th>1</th>\n",
       "      <td>Female</td>\n",
       "      <td>54.0</td>\n",
       "      <td>0</td>\n",
       "      <td>0</td>\n",
       "      <td>No Info</td>\n",
       "      <td>27.32</td>\n",
       "      <td>6.6</td>\n",
       "      <td>80</td>\n",
       "      <td>0</td>\n",
       "    </tr>\n",
       "    <tr>\n",
       "      <th>2</th>\n",
       "      <td>Male</td>\n",
       "      <td>28.0</td>\n",
       "      <td>0</td>\n",
       "      <td>0</td>\n",
       "      <td>never</td>\n",
       "      <td>27.32</td>\n",
       "      <td>5.7</td>\n",
       "      <td>158</td>\n",
       "      <td>0</td>\n",
       "    </tr>\n",
       "    <tr>\n",
       "      <th>3</th>\n",
       "      <td>Female</td>\n",
       "      <td>36.0</td>\n",
       "      <td>0</td>\n",
       "      <td>0</td>\n",
       "      <td>current</td>\n",
       "      <td>23.45</td>\n",
       "      <td>5.0</td>\n",
       "      <td>155</td>\n",
       "      <td>0</td>\n",
       "    </tr>\n",
       "    <tr>\n",
       "      <th>4</th>\n",
       "      <td>Male</td>\n",
       "      <td>76.0</td>\n",
       "      <td>1</td>\n",
       "      <td>1</td>\n",
       "      <td>current</td>\n",
       "      <td>20.14</td>\n",
       "      <td>4.8</td>\n",
       "      <td>155</td>\n",
       "      <td>0</td>\n",
       "    </tr>\n",
       "    <tr>\n",
       "      <th>...</th>\n",
       "      <td>...</td>\n",
       "      <td>...</td>\n",
       "      <td>...</td>\n",
       "      <td>...</td>\n",
       "      <td>...</td>\n",
       "      <td>...</td>\n",
       "      <td>...</td>\n",
       "      <td>...</td>\n",
       "      <td>...</td>\n",
       "    </tr>\n",
       "    <tr>\n",
       "      <th>99995</th>\n",
       "      <td>Female</td>\n",
       "      <td>80.0</td>\n",
       "      <td>0</td>\n",
       "      <td>0</td>\n",
       "      <td>No Info</td>\n",
       "      <td>27.32</td>\n",
       "      <td>6.2</td>\n",
       "      <td>90</td>\n",
       "      <td>0</td>\n",
       "    </tr>\n",
       "    <tr>\n",
       "      <th>99996</th>\n",
       "      <td>Female</td>\n",
       "      <td>2.0</td>\n",
       "      <td>0</td>\n",
       "      <td>0</td>\n",
       "      <td>No Info</td>\n",
       "      <td>17.37</td>\n",
       "      <td>6.5</td>\n",
       "      <td>100</td>\n",
       "      <td>0</td>\n",
       "    </tr>\n",
       "    <tr>\n",
       "      <th>99997</th>\n",
       "      <td>Male</td>\n",
       "      <td>66.0</td>\n",
       "      <td>0</td>\n",
       "      <td>0</td>\n",
       "      <td>former</td>\n",
       "      <td>27.83</td>\n",
       "      <td>5.7</td>\n",
       "      <td>155</td>\n",
       "      <td>0</td>\n",
       "    </tr>\n",
       "    <tr>\n",
       "      <th>99998</th>\n",
       "      <td>Female</td>\n",
       "      <td>24.0</td>\n",
       "      <td>0</td>\n",
       "      <td>0</td>\n",
       "      <td>never</td>\n",
       "      <td>35.42</td>\n",
       "      <td>4.0</td>\n",
       "      <td>100</td>\n",
       "      <td>0</td>\n",
       "    </tr>\n",
       "    <tr>\n",
       "      <th>99999</th>\n",
       "      <td>Female</td>\n",
       "      <td>57.0</td>\n",
       "      <td>0</td>\n",
       "      <td>0</td>\n",
       "      <td>current</td>\n",
       "      <td>22.43</td>\n",
       "      <td>6.6</td>\n",
       "      <td>90</td>\n",
       "      <td>0</td>\n",
       "    </tr>\n",
       "  </tbody>\n",
       "</table>\n",
       "<p>100000 rows × 9 columns</p>\n",
       "</div>"
      ],
      "text/plain": [
       "       gender   age  hypertension  heart_disease smoking_history    bmi  \\\n",
       "0      Female  80.0             0              1           never  25.19   \n",
       "1      Female  54.0             0              0         No Info  27.32   \n",
       "2        Male  28.0             0              0           never  27.32   \n",
       "3      Female  36.0             0              0         current  23.45   \n",
       "4        Male  76.0             1              1         current  20.14   \n",
       "...       ...   ...           ...            ...             ...    ...   \n",
       "99995  Female  80.0             0              0         No Info  27.32   \n",
       "99996  Female   2.0             0              0         No Info  17.37   \n",
       "99997    Male  66.0             0              0          former  27.83   \n",
       "99998  Female  24.0             0              0           never  35.42   \n",
       "99999  Female  57.0             0              0         current  22.43   \n",
       "\n",
       "       HbA1c_level  blood_glucose_level  diabetes  \n",
       "0              6.6                  140         0  \n",
       "1              6.6                   80         0  \n",
       "2              5.7                  158         0  \n",
       "3              5.0                  155         0  \n",
       "4              4.8                  155         0  \n",
       "...            ...                  ...       ...  \n",
       "99995          6.2                   90         0  \n",
       "99996          6.5                  100         0  \n",
       "99997          5.7                  155         0  \n",
       "99998          4.0                  100         0  \n",
       "99999          6.6                   90         0  \n",
       "\n",
       "[100000 rows x 9 columns]"
      ]
     },
     "execution_count": 13,
     "metadata": {},
     "output_type": "execute_result"
    }
   ],
   "source": [
    "dataset"
   ]
  },
  {
   "cell_type": "code",
   "execution_count": 231,
   "metadata": {},
   "outputs": [],
   "source": [
    "X = dataset.iloc[:, :-1].values\n",
    "y = dataset.iloc[:, -1].values"
   ]
  },
  {
   "cell_type": "markdown",
   "metadata": {
    "colab_type": "text",
    "id": "N6bQ0UgSU-NJ"
   },
   "source": [
    "### Encoding categorical data"
   ]
  },
  {
   "cell_type": "code",
   "execution_count": 232,
   "metadata": {
    "colab": {},
    "colab_type": "code",
    "id": "PxVKWXxLbczC"
   },
   "outputs": [],
   "source": [
    "from sklearn.preprocessing import LabelEncoder\n",
    "le = LabelEncoder()\n",
    "X[:, 4] = le.fit_transform(X[:, 4])"
   ]
  },
  {
   "cell_type": "code",
   "execution_count": 233,
   "metadata": {
    "colab": {},
    "colab_type": "code",
    "id": "AMXC8-KMVirw"
   },
   "outputs": [],
   "source": [
    "from sklearn.compose import ColumnTransformer\n",
    "from sklearn.preprocessing import OneHotEncoder\n",
    "ct = ColumnTransformer(transformers=[('encoder', OneHotEncoder(), [0]), ('scaler', StandardScaler(), [1, 2, 3, 5, 6, 7])], remainder='passthrough')\n",
    "X = ct.fit_transform(X)"
   ]
  },
  {
   "cell_type": "code",
   "execution_count": 234,
   "metadata": {},
   "outputs": [
    {
     "name": "stdout",
     "output_type": "stream",
     "text": [
      "[[1.0 0.0 0.0 ... 1.0017057235688864 0.04770421587098508 4]\n",
      " [1.0 0.0 0.0 ... 1.0017057235688864 -1.426209989644696 0]\n",
      " [0.0 1.0 0.0 ... 0.16110802156803655 0.4898784775256894 4]\n",
      " ...\n",
      " [0.0 1.0 0.0 ... 0.16110802156803655 0.4161827672499054 3]\n",
      " [1.0 0.0 0.0 ... -1.4266876377669033 -0.9349052544728024 4]\n",
      " [1.0 0.0 0.0 ... 1.0017057235688864 -1.1805576220587493 1]]\n"
     ]
    }
   ],
   "source": [
    "print(X)"
   ]
  },
  {
   "cell_type": "markdown",
   "metadata": {
    "colab_type": "text",
    "id": "vHol938cW8zd"
   },
   "source": [
    "### Splitting the dataset into the Training set and Test set"
   ]
  },
  {
   "cell_type": "code",
   "execution_count": 235,
   "metadata": {
    "colab": {},
    "colab_type": "code",
    "id": "Z-TDt0Y_XEfc"
   },
   "outputs": [],
   "source": [
    "from sklearn.model_selection import train_test_split\n",
    "X_train, X_test, y_train, y_test = train_test_split(X, y, test_size = 0.2, random_state = 0)"
   ]
  },
  {
   "cell_type": "code",
   "execution_count": 248,
   "metadata": {
    "colab": {},
    "colab_type": "code",
    "id": "ViCrE00rV8Sk"
   },
   "outputs": [],
   "source": [
    "X_train = X_train.astype('float32')\n",
    "X_test = X_test.astype('float32')"
   ]
  },
  {
   "cell_type": "markdown",
   "metadata": {
    "colab_type": "text",
    "id": "-zfEzkRVXIwF"
   },
   "source": [
    "## Part 2 - Building the ANN"
   ]
  },
  {
   "cell_type": "markdown",
   "metadata": {
    "colab_type": "text",
    "id": "KvdeScabXtlB"
   },
   "source": [
    "### Initializing the ANN"
   ]
  },
  {
   "cell_type": "code",
   "execution_count": 236,
   "metadata": {
    "colab": {},
    "colab_type": "code",
    "id": "3dtrScHxXQox"
   },
   "outputs": [],
   "source": [
    "ann = tf.keras.models.Sequential()"
   ]
  },
  {
   "cell_type": "markdown",
   "metadata": {
    "colab_type": "text",
    "id": "rP6urV6SX7kS"
   },
   "source": [
    "### Adding the input layer and the first hidden layer"
   ]
  },
  {
   "cell_type": "code",
   "execution_count": 237,
   "metadata": {
    "colab": {},
    "colab_type": "code",
    "id": "bppGycBXYCQr"
   },
   "outputs": [],
   "source": [
    "ann.add(tf.keras.layers.Dense(units=6, activation='relu'))"
   ]
  },
  {
   "cell_type": "markdown",
   "metadata": {
    "colab_type": "text",
    "id": "BELWAc_8YJze"
   },
   "source": [
    "### Adding the second hidden layer\n"
   ]
  },
  {
   "cell_type": "code",
   "execution_count": 238,
   "metadata": {
    "colab": {},
    "colab_type": "code",
    "id": "JneR0u0sYRTd"
   },
   "outputs": [],
   "source": [
    "ann.add(tf.keras.layers.Dense(units=4, activation='linear'))"
   ]
  },
  {
   "cell_type": "markdown",
   "metadata": {
    "colab_type": "text",
    "id": "OyNEe6RXYcU4"
   },
   "source": [
    "### Adding the output layer"
   ]
  },
  {
   "cell_type": "code",
   "execution_count": 239,
   "metadata": {
    "colab": {},
    "colab_type": "code",
    "id": "Cn3x41RBYfvY"
   },
   "outputs": [],
   "source": [
    "ann.add(tf.keras.layers.Dense(units=1, activation='sigmoid'))"
   ]
  },
  {
   "cell_type": "markdown",
   "metadata": {
    "colab_type": "text",
    "id": "JT4u2S1_Y4WG"
   },
   "source": [
    "## Part 3 - Training the ANN"
   ]
  },
  {
   "cell_type": "markdown",
   "metadata": {
    "colab_type": "text",
    "id": "8GWlJChhY_ZI"
   },
   "source": [
    "### Compiling the ANN"
   ]
  },
  {
   "cell_type": "code",
   "execution_count": 240,
   "metadata": {
    "colab": {},
    "colab_type": "code",
    "id": "fG3RrwDXZEaS"
   },
   "outputs": [],
   "source": [
    "ann.compile(optimizer = 'adam', loss = 'binary_crossentropy', metrics = ['accuracy'])"
   ]
  },
  {
   "cell_type": "markdown",
   "metadata": {
    "colab_type": "text",
    "id": "0QR_G5u7ZLSM"
   },
   "source": [
    "### Training the ANN on the Training set"
   ]
  },
  {
   "cell_type": "code",
   "execution_count": 246,
   "metadata": {
    "colab": {
     "base_uri": "https://localhost:8080/",
     "height": 1000
    },
    "colab_type": "code",
    "id": "nHZ-LKv_ZRb3",
    "outputId": "718cc4b0-b5aa-40f0-9b20-d3d31730a531"
   },
   "outputs": [
    {
     "name": "stdout",
     "output_type": "stream",
     "text": [
      "Epoch 1/100\n",
      "2500/2500 [==============================] - 3s 845us/step - loss: 0.1457 - accuracy: 0.9507\n",
      "Epoch 2/100\n",
      "2500/2500 [==============================] - 2s 837us/step - loss: 0.1151 - accuracy: 0.9596\n",
      "Epoch 3/100\n",
      "2500/2500 [==============================] - 2s 835us/step - loss: 0.1142 - accuracy: 0.9597\n",
      "Epoch 4/100\n",
      "2500/2500 [==============================] - 2s 941us/step - loss: 0.1139 - accuracy: 0.9601\n",
      "Epoch 5/100\n",
      "2500/2500 [==============================] - 2s 873us/step - loss: 0.1137 - accuracy: 0.9603\n",
      "Epoch 6/100\n",
      "2500/2500 [==============================] - 2s 875us/step - loss: 0.1137 - accuracy: 0.9602\n",
      "Epoch 7/100\n",
      "2500/2500 [==============================] - 2s 893us/step - loss: 0.1134 - accuracy: 0.9602\n",
      "Epoch 8/100\n",
      "2500/2500 [==============================] - 2s 854us/step - loss: 0.1132 - accuracy: 0.9601\n",
      "Epoch 9/100\n",
      "2500/2500 [==============================] - 2s 929us/step - loss: 0.1133 - accuracy: 0.9602\n",
      "Epoch 10/100\n",
      "2500/2500 [==============================] - 2s 904us/step - loss: 0.1132 - accuracy: 0.9602\n",
      "Epoch 11/100\n",
      "2500/2500 [==============================] - 2s 893us/step - loss: 0.1133 - accuracy: 0.9603\n",
      "Epoch 12/100\n",
      "2500/2500 [==============================] - 2s 882us/step - loss: 0.1132 - accuracy: 0.9605\n",
      "Epoch 13/100\n",
      "2500/2500 [==============================] - 2s 898us/step - loss: 0.1134 - accuracy: 0.9601\n",
      "Epoch 14/100\n",
      "2500/2500 [==============================] - 2s 881us/step - loss: 0.1133 - accuracy: 0.9606\n",
      "Epoch 15/100\n",
      "2500/2500 [==============================] - 2s 935us/step - loss: 0.1132 - accuracy: 0.9604\n",
      "Epoch 16/100\n",
      "2500/2500 [==============================] - 2s 924us/step - loss: 0.1132 - accuracy: 0.9604\n",
      "Epoch 17/100\n",
      "2500/2500 [==============================] - 2s 940us/step - loss: 0.1133 - accuracy: 0.9606\n",
      "Epoch 18/100\n",
      "2500/2500 [==============================] - 2s 928us/step - loss: 0.1131 - accuracy: 0.9606\n",
      "Epoch 19/100\n",
      "2500/2500 [==============================] - 2s 988us/step - loss: 0.1130 - accuracy: 0.9604\n",
      "Epoch 20/100\n",
      "2500/2500 [==============================] - 2s 980us/step - loss: 0.1130 - accuracy: 0.9604\n",
      "Epoch 21/100\n",
      "2500/2500 [==============================] - 2s 936us/step - loss: 0.1130 - accuracy: 0.9605\n",
      "Epoch 22/100\n",
      "2500/2500 [==============================] - 2s 917us/step - loss: 0.1130 - accuracy: 0.9607\n",
      "Epoch 23/100\n",
      "2500/2500 [==============================] - 2s 913us/step - loss: 0.1131 - accuracy: 0.9601\n",
      "Epoch 24/100\n",
      "2500/2500 [==============================] - 2s 939us/step - loss: 0.1131 - accuracy: 0.9605\n",
      "Epoch 25/100\n",
      "2500/2500 [==============================] - 3s 1ms/step - loss: 0.1129 - accuracy: 0.9602\n",
      "Epoch 26/100\n",
      "2500/2500 [==============================] - 3s 1ms/step - loss: 0.1130 - accuracy: 0.9601\n",
      "Epoch 27/100\n",
      "2500/2500 [==============================] - 3s 1ms/step - loss: 0.1130 - accuracy: 0.9605\n",
      "Epoch 28/100\n",
      "2500/2500 [==============================] - 3s 1ms/step - loss: 0.1129 - accuracy: 0.9607\n",
      "Epoch 29/100\n",
      "2500/2500 [==============================] - 2s 937us/step - loss: 0.1129 - accuracy: 0.9604\n",
      "Epoch 30/100\n",
      "2500/2500 [==============================] - 3s 1ms/step - loss: 0.1129 - accuracy: 0.9603\n",
      "Epoch 31/100\n",
      "2500/2500 [==============================] - 3s 1ms/step - loss: 0.1129 - accuracy: 0.9602\n",
      "Epoch 32/100\n",
      "2500/2500 [==============================] - 3s 1ms/step - loss: 0.1128 - accuracy: 0.9603\n",
      "Epoch 33/100\n",
      "2500/2500 [==============================] - 3s 1ms/step - loss: 0.1128 - accuracy: 0.9604\n",
      "Epoch 34/100\n",
      "2500/2500 [==============================] - 3s 1ms/step - loss: 0.1128 - accuracy: 0.9607\n",
      "Epoch 35/100\n",
      "2500/2500 [==============================] - 2s 987us/step - loss: 0.1127 - accuracy: 0.9606\n",
      "Epoch 36/100\n",
      "2500/2500 [==============================] - 2s 965us/step - loss: 0.1128 - accuracy: 0.9599\n",
      "Epoch 37/100\n",
      "2500/2500 [==============================] - 3s 1ms/step - loss: 0.1128 - accuracy: 0.9608\n",
      "Epoch 38/100\n",
      "2500/2500 [==============================] - 3s 1ms/step - loss: 0.1128 - accuracy: 0.9603\n",
      "Epoch 39/100\n",
      "2500/2500 [==============================] - 3s 1ms/step - loss: 0.1128 - accuracy: 0.9607\n",
      "Epoch 40/100\n",
      "2500/2500 [==============================] - 3s 1ms/step - loss: 0.1128 - accuracy: 0.9602\n",
      "Epoch 41/100\n",
      "2500/2500 [==============================] - 3s 1ms/step - loss: 0.1128 - accuracy: 0.9604\n",
      "Epoch 42/100\n",
      "2500/2500 [==============================] - 3s 1ms/step - loss: 0.1127 - accuracy: 0.9606\n",
      "Epoch 43/100\n",
      "2500/2500 [==============================] - 2s 969us/step - loss: 0.1128 - accuracy: 0.9603\n",
      "Epoch 44/100\n",
      "2500/2500 [==============================] - 3s 1ms/step - loss: 0.1127 - accuracy: 0.9603\n",
      "Epoch 45/100\n",
      "2500/2500 [==============================] - 3s 1ms/step - loss: 0.1129 - accuracy: 0.9603\n",
      "Epoch 46/100\n",
      "2500/2500 [==============================] - 2s 992us/step - loss: 0.1128 - accuracy: 0.9605\n",
      "Epoch 47/100\n",
      "2500/2500 [==============================] - 2s 971us/step - loss: 0.1128 - accuracy: 0.9606\n",
      "Epoch 48/100\n",
      "2500/2500 [==============================] - 3s 1ms/step - loss: 0.1127 - accuracy: 0.9603\n",
      "Epoch 49/100\n",
      "2500/2500 [==============================] - 3s 1ms/step - loss: 0.1127 - accuracy: 0.9605\n",
      "Epoch 50/100\n",
      "2500/2500 [==============================] - 2s 999us/step - loss: 0.1128 - accuracy: 0.9602\n",
      "Epoch 51/100\n",
      "2500/2500 [==============================] - 3s 1ms/step - loss: 0.1127 - accuracy: 0.9602\n",
      "Epoch 52/100\n",
      "2500/2500 [==============================] - 2s 969us/step - loss: 0.1126 - accuracy: 0.9603\n",
      "Epoch 53/100\n",
      "2500/2500 [==============================] - 3s 1ms/step - loss: 0.1126 - accuracy: 0.9603\n",
      "Epoch 54/100\n",
      "2500/2500 [==============================] - 3s 1ms/step - loss: 0.1126 - accuracy: 0.9604\n",
      "Epoch 55/100\n",
      "2500/2500 [==============================] - 3s 1ms/step - loss: 0.1126 - accuracy: 0.9605\n",
      "Epoch 56/100\n",
      "2500/2500 [==============================] - 3s 1ms/step - loss: 0.1127 - accuracy: 0.9603\n",
      "Epoch 57/100\n",
      "2500/2500 [==============================] - 2s 977us/step - loss: 0.1125 - accuracy: 0.9607\n",
      "Epoch 58/100\n",
      "2500/2500 [==============================] - 3s 1ms/step - loss: 0.1126 - accuracy: 0.9606\n",
      "Epoch 59/100\n",
      "2500/2500 [==============================] - 3s 1ms/step - loss: 0.1126 - accuracy: 0.9605\n",
      "Epoch 60/100\n",
      "2500/2500 [==============================] - 3s 1ms/step - loss: 0.1125 - accuracy: 0.9608\n",
      "Epoch 61/100\n",
      "2500/2500 [==============================] - 2s 975us/step - loss: 0.1127 - accuracy: 0.9602\n",
      "Epoch 62/100\n",
      "2500/2500 [==============================] - 3s 1ms/step - loss: 0.1126 - accuracy: 0.9605\n",
      "Epoch 63/100\n",
      "2500/2500 [==============================] - 3s 1ms/step - loss: 0.1125 - accuracy: 0.9605\n",
      "Epoch 64/100\n",
      "2500/2500 [==============================] - 3s 1ms/step - loss: 0.1126 - accuracy: 0.9606\n",
      "Epoch 65/100\n",
      "2500/2500 [==============================] - 2s 966us/step - loss: 0.1126 - accuracy: 0.9607\n",
      "Epoch 66/100\n",
      "2500/2500 [==============================] - 3s 1ms/step - loss: 0.1126 - accuracy: 0.9606\n",
      "Epoch 67/100\n",
      "2500/2500 [==============================] - 3s 1ms/step - loss: 0.1126 - accuracy: 0.9606\n",
      "Epoch 68/100\n",
      "2500/2500 [==============================] - 3s 1ms/step - loss: 0.1125 - accuracy: 0.9607\n",
      "Epoch 69/100\n",
      "2500/2500 [==============================] - 3s 1ms/step - loss: 0.1125 - accuracy: 0.9604\n",
      "Epoch 70/100\n",
      "2500/2500 [==============================] - 3s 1ms/step - loss: 0.1125 - accuracy: 0.9606\n",
      "Epoch 71/100\n",
      "2500/2500 [==============================] - 3s 1ms/step - loss: 0.1125 - accuracy: 0.9605\n",
      "Epoch 72/100\n",
      "2500/2500 [==============================] - 3s 1ms/step - loss: 0.1125 - accuracy: 0.9603\n",
      "Epoch 73/100\n",
      "2500/2500 [==============================] - 2s 982us/step - loss: 0.1126 - accuracy: 0.9605\n",
      "Epoch 74/100\n",
      "2500/2500 [==============================] - 3s 1ms/step - loss: 0.1125 - accuracy: 0.9607\n",
      "Epoch 75/100\n",
      "2500/2500 [==============================] - 3s 1ms/step - loss: 0.1126 - accuracy: 0.9607\n",
      "Epoch 76/100\n",
      "2500/2500 [==============================] - 3s 1ms/step - loss: 0.1126 - accuracy: 0.9605\n",
      "Epoch 77/100\n",
      "2500/2500 [==============================] - 3s 1ms/step - loss: 0.1124 - accuracy: 0.9607\n",
      "Epoch 78/100\n",
      "2500/2500 [==============================] - 3s 1ms/step - loss: 0.1126 - accuracy: 0.9606\n",
      "Epoch 79/100\n",
      "2500/2500 [==============================] - 3s 1ms/step - loss: 0.1125 - accuracy: 0.9602\n",
      "Epoch 80/100\n",
      "2500/2500 [==============================] - 3s 1ms/step - loss: 0.1125 - accuracy: 0.9604\n",
      "Epoch 81/100\n",
      "2500/2500 [==============================] - 2s 995us/step - loss: 0.1126 - accuracy: 0.9607\n",
      "Epoch 82/100\n",
      "2500/2500 [==============================] - 3s 1ms/step - loss: 0.1124 - accuracy: 0.9605\n",
      "Epoch 83/100\n",
      "2500/2500 [==============================] - 2s 998us/step - loss: 0.1124 - accuracy: 0.9606\n",
      "Epoch 84/100\n",
      "2500/2500 [==============================] - 3s 1ms/step - loss: 0.1125 - accuracy: 0.9608\n",
      "Epoch 85/100\n",
      "2500/2500 [==============================] - 3s 1ms/step - loss: 0.1124 - accuracy: 0.9604\n",
      "Epoch 86/100\n",
      "2500/2500 [==============================] - 3s 1ms/step - loss: 0.1124 - accuracy: 0.9607\n",
      "Epoch 87/100\n",
      "2500/2500 [==============================] - 2s 935us/step - loss: 0.1124 - accuracy: 0.9605\n",
      "Epoch 88/100\n",
      "2500/2500 [==============================] - 3s 1ms/step - loss: 0.1124 - accuracy: 0.9606\n",
      "Epoch 89/100\n",
      "2500/2500 [==============================] - 3s 1ms/step - loss: 0.1124 - accuracy: 0.9604\n",
      "Epoch 90/100\n",
      "2500/2500 [==============================] - 3s 1ms/step - loss: 0.1124 - accuracy: 0.9607\n",
      "Epoch 91/100\n",
      "2500/2500 [==============================] - 3s 1ms/step - loss: 0.1125 - accuracy: 0.9603\n",
      "Epoch 92/100\n",
      "2500/2500 [==============================] - 3s 1ms/step - loss: 0.1125 - accuracy: 0.9606\n",
      "Epoch 93/100\n",
      "2500/2500 [==============================] - 3s 1ms/step - loss: 0.1125 - accuracy: 0.9603\n",
      "Epoch 94/100\n",
      "2500/2500 [==============================] - 3s 1ms/step - loss: 0.1125 - accuracy: 0.9605\n",
      "Epoch 95/100\n",
      "2500/2500 [==============================] - 3s 1ms/step - loss: 0.1124 - accuracy: 0.9607\n",
      "Epoch 96/100\n",
      "2500/2500 [==============================] - 3s 1ms/step - loss: 0.1124 - accuracy: 0.9606\n",
      "Epoch 97/100\n",
      "2500/2500 [==============================] - 3s 1ms/step - loss: 0.1124 - accuracy: 0.9606\n",
      "Epoch 98/100\n",
      "2500/2500 [==============================] - 2s 994us/step - loss: 0.1125 - accuracy: 0.9605\n",
      "Epoch 99/100\n",
      "2500/2500 [==============================] - 3s 1ms/step - loss: 0.1125 - accuracy: 0.9607\n",
      "Epoch 100/100\n",
      "2500/2500 [==============================] - 3s 1ms/step - loss: 0.1124 - accuracy: 0.9604\n"
     ]
    },
    {
     "data": {
      "text/plain": [
       "<keras.src.callbacks.History at 0x11938a75290>"
      ]
     },
     "execution_count": 246,
     "metadata": {},
     "output_type": "execute_result"
    }
   ],
   "source": [
    "ann.fit(X_train, y_train, batch_size = 32, epochs = 100)"
   ]
  },
  {
   "cell_type": "markdown",
   "metadata": {
    "colab_type": "text",
    "id": "tJj5k2MxZga3"
   },
   "source": [
    "## Part 4 - Making the predictions and evaluating the model"
   ]
  },
  {
   "cell_type": "markdown",
   "metadata": {
    "colab_type": "text",
    "id": "u7yx47jPZt11"
   },
   "source": [
    "### Predicting the Test set results"
   ]
  },
  {
   "cell_type": "code",
   "execution_count": 249,
   "metadata": {
    "colab": {
     "base_uri": "https://localhost:8080/",
     "height": 137
    },
    "colab_type": "code",
    "id": "nIyEeQdRZwgs",
    "outputId": "82330ba8-9bdc-4fd1-d3cf-b6d78ee7c2a3"
   },
   "outputs": [
    {
     "name": "stdout",
     "output_type": "stream",
     "text": [
      "625/625 [==============================] - 1s 693us/step\n",
      "[[0 0]\n",
      " [0 0]\n",
      " [0 0]\n",
      " ...\n",
      " [0 0]\n",
      " [0 0]\n",
      " [0 0]]\n"
     ]
    }
   ],
   "source": [
    "y_pred = ann.predict(X_test)\n",
    "y_pred = (y_pred > 0.5)\n",
    "print(np.concatenate((y_pred.reshape(len(y_pred),1), y_test.reshape(len(y_test),1)),1))"
   ]
  },
  {
   "cell_type": "markdown",
   "metadata": {
    "colab_type": "text",
    "id": "o0oyfLWoaEGw"
   },
   "source": [
    "### Making the Confusion Matrix"
   ]
  },
  {
   "cell_type": "code",
   "execution_count": 250,
   "metadata": {
    "colab": {
     "base_uri": "https://localhost:8080/",
     "height": 68
    },
    "colab_type": "code",
    "id": "ci6K_r6LaF6P",
    "outputId": "4d854e9e-22d5-432f-f6e5-a102fe3ae0bd"
   },
   "outputs": [
    {
     "name": "stdout",
     "output_type": "stream",
     "text": [
      "[[18172   125]\n",
      " [  641  1062]]\n"
     ]
    },
    {
     "data": {
      "text/plain": [
       "0.9617"
      ]
     },
     "execution_count": 250,
     "metadata": {},
     "output_type": "execute_result"
    }
   ],
   "source": [
    "from sklearn.metrics import confusion_matrix, accuracy_score\n",
    "import matplotlib.pyplot as plt\n",
    "conf_matrix = confusion_matrix(y_test, y_pred)\n",
    "print(conf_matrix)\n",
    "accuracy_score(y_test, y_pred)"
   ]
  },
  {
   "cell_type": "code",
   "execution_count": 251,
   "metadata": {
    "scrolled": true
   },
   "outputs": [
    {
     "data": {
      "image/png": "[encoded data removed]",
      "text/plain": [
       "<Figure size 750x750 with 1 Axes>"
      ]
     },
     "metadata": {},
     "output_type": "display_data"
    }
   ],
   "source": [
    "fig, ax = plt.subplots(figsize=(7.5, 7.5))\n",
    "ax.matshow(conf_matrix, cmap=plt.cm.Blues, alpha=0.3)\n",
    "for i in range(conf_matrix.shape[0]):\n",
    "    for j in range(conf_matrix.shape[1]):\n",
    "        ax.text(x=j, y=i,s=conf_matrix[i, j], va='center', ha='center', size='xx-large')\n",
    " \n",
    "plt.xlabel('Predictions', fontsize=18)\n",
    "plt.ylabel('Actuals', fontsize=18)\n",
    "plt.title('Confusion Matrix', fontsize=18)\n",
    "plt.show()"
   ]
  }
 ],
 "metadata": {
  "colab": {
   "collapsed_sections": [],
   "name": "artificial_neural_network.ipynb",
   "provenance": [],
   "toc_visible": true
  },
  "kernelspec": {
   "display_name": "Python 3 (ipykernel)",
   "language": "python",
   "name": "python3"
  },
  "language_info": {
   "codemirror_mode": {
    "name": "ipython",
    "version": 3
   },
   "file_extension": ".py",
   "mimetype": "text/x-python",
   "name": "python",
   "nbconvert_exporter": "python",
   "pygments_lexer": "ipython3",
   "version": "3.11.5"
  }
 },
 "nbformat": 4,
 "nbformat_minor": 4
}
