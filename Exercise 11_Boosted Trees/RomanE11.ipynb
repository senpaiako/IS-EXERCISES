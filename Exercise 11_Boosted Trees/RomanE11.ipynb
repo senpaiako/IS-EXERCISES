{
 "cells": [
  {
   "cell_type": "markdown",
   "id": "f14fe73f",
   "metadata": {},
   "source": [
    "# Boosted Trees Exercise"
   ]
  },
  {
   "cell_type": "markdown",
   "id": "d45a22ec",
   "metadata": {},
   "source": [
    "Using the following dataset : http://archive.ics.uci.edu/dataset/19/car+evaluation"
   ]
  },
  {
   "cell_type": "code",
   "execution_count": 18,
   "id": "9cc7dd73",
   "metadata": {},
   "outputs": [],
   "source": [
    "import pandas as pd\n",
    "from sklearn.model_selection import train_test_split\n",
    "from sklearn.preprocessing import LabelEncoder\n",
    "from sklearn.metrics import classification_report, accuracy_score\n",
    "from xgboost import XGBClassifier\n",
    "from catboost import CatBoostClassifier"
   ]
  },
  {
   "cell_type": "code",
   "execution_count": 10,
   "id": "ab2b76b0",
   "metadata": {},
   "outputs": [],
   "source": [
    "# Load the dataset\n",
    "url = \"http://archive.ics.uci.edu/ml/machine-learning-databases/car/car.data\"\n",
    "column_names = [\"buying\", \"maint\", \"doors\", \"persons\", \"lug_boot\", \"safety\", \"class\"]\n",
    "df = pd.read_csv(url, names=column_names)\n",
    "\n",
    "# Convert categorical features to numerical\n",
    "df_encoded = pd.get_dummies(df, columns=['buying', 'maint', 'doors', 'persons', 'lug_boot', 'safety'])\n"
   ]
  },
  {
   "cell_type": "code",
   "execution_count": 15,
   "id": "dd62a643",
   "metadata": {},
   "outputs": [],
   "source": [
    "# Separate features and target variable\n",
    "X = df_encoded.drop(\"class\", axis=1)\n",
    "y = df_encoded[\"class\"]\n",
    "\n",
    "label_encoder = LabelEncoder()\n",
    "y_encoded = label_encoder.fit_transform(y)\n",
    "\n",
    "\n",
    "# Split the dataset into training and testing sets\n",
    "X_train, X_test, y_train, y_test = train_test_split(X, y_encoded, test_size=0.2, random_state=42)"
   ]
  },
  {
   "cell_type": "code",
   "execution_count": 19,
   "id": "c208a2dc",
   "metadata": {},
   "outputs": [
    {
     "name": "stdout",
     "output_type": "stream",
     "text": [
      "XGBoost Classification Report:\n",
      "              precision    recall  f1-score   support\n",
      "\n",
      "           0       1.00      0.92      0.96        83\n",
      "           1       0.61      1.00      0.76        11\n",
      "           2       1.00      1.00      1.00       235\n",
      "           3       1.00      1.00      1.00        17\n",
      "\n",
      "    accuracy                           0.98       346\n",
      "   macro avg       0.90      0.98      0.93       346\n",
      "weighted avg       0.99      0.98      0.98       346\n",
      "\n",
      "XGBoost Overall Accuracy: 0.9797687861271677\n"
     ]
    }
   ],
   "source": [
    "# 1. Apply XGBoost classifier\n",
    "xgb_model = XGBClassifier(objective='multi:softmax')\n",
    "xgb_model.fit(X_train, y_train)\n",
    "xgb_predictions = xgb_model.predict(X_test)\n",
    "\n",
    "print(\"XGBoost Classification Report:\")\n",
    "print(classification_report(y_test, xgb_predictions))\n",
    "print(\"XGBoost Overall Accuracy:\", accuracy_score(y_test, xgb_predictions))"
   ]
  },
  {
   "cell_type": "code",
   "execution_count": 21,
   "id": "741bf5ea",
   "metadata": {},
   "outputs": [
    {
     "name": "stdout",
     "output_type": "stream",
     "text": [
      "0:\tlearn: 0.9474975\ttotal: 1.68ms\tremaining: 250ms\n",
      "15:\tlearn: 0.2026547\ttotal: 37.2ms\tremaining: 312ms\n",
      "30:\tlearn: 0.1136741\ttotal: 70.6ms\tremaining: 271ms\n",
      "45:\tlearn: 0.0760837\ttotal: 104ms\tremaining: 236ms\n",
      "60:\tlearn: 0.0548474\ttotal: 142ms\tremaining: 207ms\n",
      "75:\tlearn: 0.0425822\ttotal: 177ms\tremaining: 172ms\n",
      "90:\tlearn: 0.0346446\ttotal: 209ms\tremaining: 135ms\n",
      "105:\tlearn: 0.0287692\ttotal: 241ms\tremaining: 100ms\n",
      "120:\tlearn: 0.0247338\ttotal: 276ms\tremaining: 66.2ms\n",
      "135:\tlearn: 0.0219709\ttotal: 309ms\tremaining: 31.8ms\n",
      "149:\tlearn: 0.0195640\ttotal: 336ms\tremaining: 0us\n",
      "\n",
      "CatBoost Classification Report:\n",
      "              precision    recall  f1-score   support\n",
      "\n",
      "           0       1.00      0.92      0.96        83\n",
      "           1       0.59      0.91      0.71        11\n",
      "           2       1.00      1.00      1.00       235\n",
      "           3       0.94      1.00      0.97        17\n",
      "\n",
      "    accuracy                           0.98       346\n",
      "   macro avg       0.88      0.96      0.91       346\n",
      "weighted avg       0.98      0.98      0.98       346\n",
      "\n",
      "CatBoost Overall Accuracy: 0.976878612716763\n"
     ]
    }
   ],
   "source": [
    "# 2. Apply CatBoost classifier\n",
    "catboost_model = CatBoostClassifier(iterations=150, depth=5, learning_rate=0.3, loss_function='MultiClass', verbose=15)\n",
    "catboost_model.fit(X_train, y_train)\n",
    "catboost_predictions = catboost_model.predict(X_test)\n",
    "\n",
    "print(\"\\nCatBoost Classification Report:\")\n",
    "print(classification_report(y_test, catboost_predictions))\n",
    "print(\"CatBoost Overall Accuracy:\", accuracy_score(y_test, catboost_predictions))"
   ]
  }
 ],
 "metadata": {
  "kernelspec": {
   "display_name": "Python 3 (ipykernel)",
   "language": "python",
   "name": "python3"
  },
  "language_info": {
   "codemirror_mode": {
    "name": "ipython",
    "version": 3
   },
   "file_extension": ".py",
   "mimetype": "text/x-python",
   "name": "python",
   "nbconvert_exporter": "python",
   "pygments_lexer": "ipython3",
   "version": "3.12.1"
  }
 },
 "nbformat": 4,
 "nbformat_minor": 5
}
