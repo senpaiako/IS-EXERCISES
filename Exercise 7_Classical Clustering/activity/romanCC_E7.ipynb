{
 "cells": [
  {
   "cell_type": "markdown",
   "metadata": {},
   "source": [
    "# Clustering Activity"
   ]
  },
  {
   "cell_type": "code",
   "execution_count": 4,
   "metadata": {},
   "outputs": [],
   "source": [
    "# Import necessary libraries\n",
    "from sklearn.datasets import make_blobs\n",
    "from sklearn.cluster import KMeans, AgglomerativeClustering, SpectralClustering\n",
    "from sklearn.metrics import adjusted_rand_score\n",
    "import skfuzzy.cluster as fuzz\n",
    "import numpy as np\n",
    "import pandas as pd\n",
    "import matplotlib.pyplot as plt\n",
    "\n",
    "# Generate a hypothetical dataset\n",
    "X, y_true = make_blobs(n_samples=1000, centers=4, random_state=42, cluster_std=1.5)"
   ]
  },
  {
   "cell_type": "markdown",
   "metadata": {},
   "source": [
    "Exercise: Evaluate four clustering algorithms (K-Means, Fuzzy C-Means, Spectral, and Agglomerative)\n",
    "1. Apply each clustering algorithm to the dataset where:\n",
    "- cluster_count = 4\n",
    "- random_state = 42 (where applicable)\n",
    "- do not specify affinity, metric, algo, init, linkage (if applicable)\n",
    "2. Use the **Adjusted Rand index** and **Silhouette Score** to evaluate the clustering performance.\n",
    "3. Compare the performance of the algorithms based on the aforementioned metrics and decide which algorithm is best suited for the data given."
   ]
  },
  {
   "cell_type": "code",
   "execution_count": 5,
   "metadata": {},
   "outputs": [
    {
     "name": "stderr",
     "output_type": "stream",
     "text": [
      "C:\\Users\\jbane\\AppData\\Local\\Packages\\PythonSoftwareFoundation.Python.3.11_qbz5n2kfra8p0\\LocalCache\\local-packages\\Python311\\site-packages\\sklearn\\cluster\\_kmeans.py:870: FutureWarning: The default value of `n_init` will change from 10 to 'auto' in 1.4. Set the value of `n_init` explicitly to suppress the warning\n",
      "  warnings.warn(\n"
     ]
    },
    {
     "name": "stdout",
     "output_type": "stream",
     "text": [
      "Adjusted Rand Index:\n",
      "K-Means: 0.9867602764824711\n",
      "Fuzzy C-Means: 0.9867602764824711\n",
      "Spectral: 0.9920240695900462\n",
      "Agglomerative: 0.9763615827878084\n",
      "\n",
      "Silhouette Score:\n",
      "K-Means: 0.6876600436588094\n",
      "Fuzzy C-Means: 0.6876600436588094\n",
      "Spectral: 0.6874976652400637\n",
      "Agglomerative: 0.685223260645522\n"
     ]
    }
   ],
   "source": [
    "from sklearn.metrics import silhouette_score\n",
    "\n",
    "# Define the number of clusters\n",
    "cluster_count = 4\n",
    "\n",
    "# Initialize the algorithms\n",
    "kmeans = KMeans(n_clusters=cluster_count, random_state=42)\n",
    "fuzzy_cmeans = fuzz.cmeans(X.T, c=cluster_count, m=2, error=0.005, maxiter=1000, seed=42)\n",
    "spectral = SpectralClustering(n_clusters=cluster_count, random_state=42)\n",
    "agglomerative = AgglomerativeClustering(n_clusters=cluster_count)\n",
    "\n",
    "# Fit the algorithms to the data\n",
    "kmeans_labels = kmeans.fit_predict(X)\n",
    "fuzzy_cmeans_labels = np.argmax(fuzzy_cmeans[1], axis=0)\n",
    "spectral_labels = spectral.fit_predict(X)\n",
    "agglomerative_labels = agglomerative.fit_predict(X)\n",
    "\n",
    "# Evaluate using Adjusted Rand index and Silhouette Score\n",
    "ari_kmeans = adjusted_rand_score(y_true, kmeans_labels)\n",
    "ari_fuzzy_cmeans = adjusted_rand_score(y_true, fuzzy_cmeans_labels)\n",
    "ari_spectral = adjusted_rand_score(y_true, spectral_labels)\n",
    "ari_agglomerative = adjusted_rand_score(y_true, agglomerative_labels)\n",
    "\n",
    "silhouette_kmeans = silhouette_score(X, kmeans_labels)\n",
    "silhouette_fuzzy_cmeans = silhouette_score(X, fuzzy_cmeans_labels)\n",
    "silhouette_spectral = silhouette_score(X, spectral_labels)\n",
    "silhouette_agglomerative = silhouette_score(X, agglomerative_labels)\n",
    "\n",
    "# Print the results\n",
    "print(\"Adjusted Rand Index:\")\n",
    "print(f\"K-Means: {ari_kmeans}\")\n",
    "print(f\"Fuzzy C-Means: {ari_fuzzy_cmeans}\")\n",
    "print(f\"Spectral: {ari_spectral}\")\n",
    "print(f\"Agglomerative: {ari_agglomerative}\")\n",
    "\n",
    "print(\"\\nSilhouette Score:\")\n",
    "print(f\"K-Means: {silhouette_kmeans}\")\n",
    "print(f\"Fuzzy C-Means: {silhouette_fuzzy_cmeans}\")\n",
    "print(f\"Spectral: {silhouette_spectral}\")\n",
    "print(f\"Agglomerative: {silhouette_agglomerative}\")"
   ]
  }
 ],
 "metadata": {
  "kernelspec": {
   "display_name": "Python 3",
   "language": "python",
   "name": "python3"
  },
  "language_info": {
   "codemirror_mode": {
    "name": "ipython",
    "version": 3
   },
   "file_extension": ".py",
   "mimetype": "text/x-python",
   "name": "python",
   "nbconvert_exporter": "python",
   "pygments_lexer": "ipython3",
   "version": "3.11.7"
  }
 },
 "nbformat": 4,
 "nbformat_minor": 2
}
